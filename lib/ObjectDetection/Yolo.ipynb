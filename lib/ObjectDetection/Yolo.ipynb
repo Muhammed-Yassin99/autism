{
 "cells": [
  {
   "cell_type": "code",
   "execution_count": null,
   "metadata": {},
   "outputs": [],
   "source": []
  }
 ],
 "metadata": {
  "kernelspec": {
   "display_name": "myenv",
   "language": "python",
   "name": "python3"
  },
  "language_info": {
   "name": "python",
   "version": "3.9.15 (main, Nov 24 2022, 14:39:17) [MSC v.1916 64 bit (AMD64)]"
  },
  "orig_nbformat": 4,
  "vscode": {
   "interpreter": {
    "hash": "d1b5efb32ba043d91fac4592b4172ffcaf29e43c807b14351a6f62dee84699c2"
   }
  }
 },
 "nbformat": 4,
 "nbformat_minor": 2
}
